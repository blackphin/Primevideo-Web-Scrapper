{
 "cells": [
  {
   "cell_type": "markdown",
   "metadata": {},
   "source": [
    "Imports"
   ]
  },
  {
   "cell_type": "code",
   "execution_count": 20,
   "metadata": {},
   "outputs": [],
   "source": [
    "from time import sleep\n",
    "import pyautogui as gui\n",
    "import pickle, json\n",
    "\n",
    "from selenium import webdriver\n",
    "from selenium.webdriver.chrome.service import Service\n",
    "from selenium.webdriver.chrome.options import Options\n",
    "from selenium.webdriver.common.by import By\n",
    "from selenium.webdriver.common.keys import Keys\n",
    "\n",
    "from webdriver_manager.chrome import ChromeDriverManager\n"
   ]
  },
  {
   "cell_type": "markdown",
   "metadata": {},
   "source": [
    "Webdriver Initialization"
   ]
  },
  {
   "cell_type": "code",
   "execution_count": 21,
   "metadata": {},
   "outputs": [],
   "source": [
    "options = Options()\n",
    "options.add_argument(\"start-maximized\")\n",
    "driver = webdriver.Chrome(\n",
    "    service=Service(ChromeDriverManager().install()), options=options\n",
    ")\n",
    "gui.hotkey(\"win\", \"d\")\n",
    "gui.hotkey(\"alt\", \"tab\")\n",
    "gui.hotkey(\"alt\", \"tab\")\n"
   ]
  },
  {
   "cell_type": "markdown",
   "metadata": {},
   "source": [
    "Login Sequence"
   ]
  },
  {
   "cell_type": "code",
   "execution_count": 22,
   "metadata": {},
   "outputs": [],
   "source": [
    "driver.get(\"https://www.primevideo.com/\")\n",
    "driver.find_element(by=By.CLASS_NAME, value=\"pv-nav-account-icon\").click()\n",
    "driver.find_element(by=By.ID, value=\"pv-nav-sign-in\").click()\n",
    "driver.find_element(by=By.ID, value=\"ap_email\").send_keys(\"shivanshgoel009@gmail.com\")\n",
    "driver.find_element(by=By.ID, value=\"ap_password\").send_keys(\"*21azhgmcdsptcsH\")\n",
    "driver.find_element(by=By.CLASS_NAME, value=\"a-button-input\").click()\n",
    "try:\n",
    "    driver.find_element(by=By.ID, value=\"ap_password\").send_keys(\"*21azhgmcdsptcsH\")\n",
    "    sleep(15)\n",
    "except:\n",
    "    ...\n"
   ]
  },
  {
   "cell_type": "markdown",
   "metadata": {},
   "source": [
    "Scroll"
   ]
  },
  {
   "cell_type": "code",
   "execution_count": 34,
   "metadata": {},
   "outputs": [],
   "source": [
    "next_button_elements_list = driver.find_elements(\n",
    "    by=By.CSS_SELECTOR, value=\"._10rDDN ._1UUJbx .jxBPRE ._3Twtd7\"\n",
    ")\n",
    "sleep(3)\n",
    "try:\n",
    "    while True:\n",
    "        sleep(1)\n",
    "        next_button_elements_list[1].click()\n",
    "        # driver.find_element(\n",
    "        #     by=By.XPATH,\n",
    "        #     value=\"/html/body/div[1]/div[3]/div/div/div[3]/div/div[2]/div/div[2]/div/button\",\n",
    "        # ).click()\n",
    "except:\n",
    "    ...\n"
   ]
  },
  {
   "cell_type": "markdown",
   "metadata": {},
   "source": [
    "Links List"
   ]
  },
  {
   "cell_type": "code",
   "execution_count": 26,
   "metadata": {},
   "outputs": [
    {
     "name": "stdout",
     "output_type": "stream",
     "text": [
      "Movie Found: 100/100\n"
     ]
    }
   ],
   "source": [
    "movie_links_elements_list = driver.find_elements(\n",
    "    by=By.CSS_SELECTOR, value=\"._10rDDN ._1UUJbx .jxBPRE ._2R-pYQ ._1_hBiq a\"\n",
    ")\n",
    "movie_links_list=[]\n",
    "\n",
    "for movie_link_element in movie_links_elements_list:\n",
    "    movie_links_list.append(movie_link_element.get_attribute(\"href\"))\n",
    "\n",
    "print(f\"Movie Found: {len(movie_links_list)}/{len(movie_links_elements_list)}\")\n",
    "\n",
    "with open(\"movie_links_list.log\", \"wb\") as file1:\n",
    "    pickle.dump(movie_links_list, file1)"
   ]
  },
  {
   "cell_type": "markdown",
   "metadata": {},
   "source": [
    "Collect Data"
   ]
  },
  {
   "cell_type": "code",
   "execution_count": 29,
   "metadata": {},
   "outputs": [],
   "source": [
    "data = []\n",
    "for movie_number in range(len(movie_links_list)):\n",
    "    movie_details = {}\n",
    "    driver.get(movie_links_list[movie_number])\n",
    "\n",
    "    movie_details[\"name\"] = driver.find_element(by=By.CLASS_NAME, value=\"_2IIDsE\").text\n",
    "    movie_details[\"link\"] = movie_links_list[movie_number]\n",
    "    \n",
    "    div_list=driver.find_elements(by=By.CSS_SELECTOR, value=\".XqYSS8 span\")\n",
    "    \n",
    "    movie_details[\"runtime\"] = div_list[0].get_attribute(\"aria-label\")[8:]\n",
    "    movie_details[\"released\"]=div_list[1].get_attribute(\"aria-label\")[9:]\n",
    "    movie_details[\"age_rating\"]=driver.find_element(by=By.CLASS_NAME, value=\"_1zslxR\").get_attribute(\"title\")\n",
    "    movie_details[\"director\"]=driver.find_element(by=By.CSS_SELECTOR, value=\"._266mZB a\").text\n",
    "    data.append(movie_details)\n",
    "\n",
    "json_data = json.dumps(data, indent=4)\n"
   ]
  },
  {
   "cell_type": "markdown",
   "metadata": {},
   "source": [
    "Store Data to JSON File"
   ]
  },
  {
   "cell_type": "code",
   "execution_count": 30,
   "metadata": {},
   "outputs": [],
   "source": [
    "with open(\"data.json\", \"w\") as file2:\n",
    "    json.dump(data, file2)"
   ]
  },
  {
   "cell_type": "markdown",
   "metadata": {},
   "source": [
    "Quit WebDriver"
   ]
  },
  {
   "cell_type": "code",
   "execution_count": 8,
   "metadata": {},
   "outputs": [],
   "source": [
    "driver.quit()"
   ]
  }
 ],
 "metadata": {
  "kernelspec": {
   "display_name": "Python 3.10.5 ('venv_amazon_scrapper': venv)",
   "language": "python",
   "name": "python3"
  },
  "language_info": {
   "codemirror_mode": {
    "name": "ipython",
    "version": 3
   },
   "file_extension": ".py",
   "mimetype": "text/x-python",
   "name": "python",
   "nbconvert_exporter": "python",
   "pygments_lexer": "ipython3",
   "version": "3.10.5"
  },
  "orig_nbformat": 4,
  "vscode": {
   "interpreter": {
    "hash": "1ef4b5011d7b27895635a542fafcdd1c4c33fa79d0c9ed434849b572228c5ea0"
   }
  }
 },
 "nbformat": 4,
 "nbformat_minor": 2
}
